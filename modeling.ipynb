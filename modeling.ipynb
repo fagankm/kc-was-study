{
 "cells": [
  {
   "attachments": {},
   "cell_type": "markdown",
   "id": "c9b337b8",
   "metadata": {},
   "source": [
    "Here we will predict property values in each of the previously selected zip codes"
   ]
  },
  {
   "cell_type": "code",
   "execution_count": 1,
   "id": "a79da644",
   "metadata": {},
   "outputs": [],
   "source": [
    "# Suppress future and deprecation warnings\n",
    "import warnings\n",
    "warnings.filterwarnings(\"ignore\", category = FutureWarning)\n",
    "warnings.filterwarnings(\"ignore\", category = DeprecationWarning)\n",
    "\n",
    "# Standard Packages\n",
    "import pandas as pd\n",
    "import numpy as np\n",
    "import datetime\n",
    "\n",
    "# Viz Packages\n",
    "import seaborn as sns\n",
    "import matplotlib.pyplot as plt\n",
    "\n",
    "# Scipy Stats\n",
    "import scipy.stats as stats \n",
    "\n",
    "# Statsmodel Api\n",
    "import statsmodels.api as sm\n",
    "from statsmodels.formula.api import ols\n",
    "\n",
    "# SKLearn Modules\n",
    "from sklearn.linear_model import LinearRegression\n",
    "from sklearn.feature_selection import RFE\n",
    "from sklearn.preprocessing import StandardScaler, OneHotEncoder\n",
    "from sklearn.model_selection import train_test_split\n",
    "import sklearn.metrics as metrics\n",
    "\n",
    "# Location visualization\n",
    "import folium\n",
    "from folium.plugins import MarkerCluster\n",
    "import streamlit as st\n",
    "from streamlit_folium import folium_static"
   ]
  },
  {
   "cell_type": "code",
   "execution_count": 3,
   "id": "84c82a3b",
   "metadata": {},
   "outputs": [],
   "source": [
    "# Load previously created dataframes\n",
    "df1 = pd.read_pickle('data/df1.pkl')\n",
    "df2 = pd.read_pickle('data/df2.pkl')\n",
    "df3 = pd.read_pickle('data/df3.pkl')\n",
    "df4 = pd.read_pickle('data/df4.pkl')\n",
    "df5 = pd.read_pickle('data/df5.pkl')\n",
    "df15 = pd.read_pickle('data/df15.pkl')"
   ]
  },
  {
   "attachments": {},
   "cell_type": "markdown",
   "id": "74c0ea65",
   "metadata": {},
   "source": [
    "We will create a Baseline model using all 5 top zip codes combined, using only data that can be changed."
   ]
  },
  {
   "cell_type": "code",
   "execution_count": 4,
   "id": "7cc08fc5",
   "metadata": {},
   "outputs": [
    {
     "name": "stdout",
     "output_type": "stream",
     "text": [
      "<class 'pandas.core.frame.DataFrame'>\n",
      "Int64Index: 1193 entries, 27 to 29889\n",
      "Data columns (total 27 columns):\n",
      " #   Column         Non-Null Count  Dtype  \n",
      "---  ------         --------------  -----  \n",
      " 0   id             1193 non-null   int64  \n",
      " 1   date           1193 non-null   object \n",
      " 2   price          1193 non-null   float64\n",
      " 3   bedrooms       1193 non-null   int64  \n",
      " 4   bathrooms      1193 non-null   float64\n",
      " 5   sqft_living    1193 non-null   int64  \n",
      " 6   sqft_lot       1193 non-null   int64  \n",
      " 7   floors         1193 non-null   float64\n",
      " 8   waterfront     1193 non-null   object \n",
      " 9   greenbelt      1193 non-null   object \n",
      " 10  nuisance       1193 non-null   object \n",
      " 11  view           1193 non-null   object \n",
      " 12  condition      1193 non-null   int64  \n",
      " 13  heat_source    1193 non-null   object \n",
      " 14  sewer_system   1193 non-null   object \n",
      " 15  sqft_above     1193 non-null   int64  \n",
      " 16  sqft_basement  1193 non-null   int64  \n",
      " 17  sqft_garage    1193 non-null   int64  \n",
      " 18  sqft_patio     1193 non-null   int64  \n",
      " 19  yr_built       1193 non-null   int64  \n",
      " 20  yr_renovated   1193 non-null   int64  \n",
      " 21  address        1193 non-null   object \n",
      " 22  lat            1193 non-null   float64\n",
      " 23  long           1193 non-null   float64\n",
      " 24  zipcode        1193 non-null   int32  \n",
      " 25  gradeno        1193 non-null   int32  \n",
      " 26  class          1193 non-null   int64  \n",
      "dtypes: float64(5), int32(2), int64(12), object(8)\n",
      "memory usage: 251.6+ KB\n"
     ]
    }
   ],
   "source": [
    "df15.info()"
   ]
  },
  {
   "cell_type": "code",
   "execution_count": 5,
   "id": "1a2327c4",
   "metadata": {},
   "outputs": [],
   "source": [
    "def regressionsm(df,X,y):\n",
    "    model = LinearRegression()\n",
    "    X_train, X_test, y_train, y_test = train_test_split(\n",
    "    X, y, test_size=0.25, random_state=42)\n",
    "    scaler = StandardScaler()\n",
    "    scaler.fit(X_train)\n",
    "    X_train_scaled = scaler.transform(X_train)\n",
    "    X_test_scaled = scaler.transform(X_test)\n",
    "    X_train_scaled = pd.DataFrame(X_train_scaled,\n",
    "                              columns=X_train.columns,\n",
    "                              index=X_train.index)\n",
    "    X_test_scaled = pd.DataFrame(X_test_scaled,\n",
    "                             columns=X_test.columns,\n",
    "                             index=X_test.index)\n",
    "    \n",
    "    model_OLS = sm.OLS(endog=y_train, exog=sm.add_constant(X_train_scaled)).fit()\n",
    "    return model_OLS.summary()"
   ]
  },
  {
   "cell_type": "code",
   "execution_count": 8,
   "id": "eabb08d4",
   "metadata": {},
   "outputs": [
    {
     "data": {
      "text/html": [
       "<table class=\"simpletable\">\n",
       "<caption>OLS Regression Results</caption>\n",
       "<tr>\n",
       "  <th>Dep. Variable:</th>          <td>price</td>      <th>  R-squared:         </th> <td>   0.678</td> \n",
       "</tr>\n",
       "<tr>\n",
       "  <th>Model:</th>                   <td>OLS</td>       <th>  Adj. R-squared:    </th> <td>   0.673</td> \n",
       "</tr>\n",
       "<tr>\n",
       "  <th>Method:</th>             <td>Least Squares</td>  <th>  F-statistic:       </th> <td>   154.3</td> \n",
       "</tr>\n",
       "<tr>\n",
       "  <th>Date:</th>             <td>Thu, 16 Feb 2023</td> <th>  Prob (F-statistic):</th> <td>5.38e-207</td>\n",
       "</tr>\n",
       "<tr>\n",
       "  <th>Time:</th>                 <td>12:57:44</td>     <th>  Log-Likelihood:    </th> <td> -13455.</td> \n",
       "</tr>\n",
       "<tr>\n",
       "  <th>No. Observations:</th>      <td>   894</td>      <th>  AIC:               </th> <td>2.694e+04</td>\n",
       "</tr>\n",
       "<tr>\n",
       "  <th>Df Residuals:</th>          <td>   881</td>      <th>  BIC:               </th> <td>2.700e+04</td>\n",
       "</tr>\n",
       "<tr>\n",
       "  <th>Df Model:</th>              <td>    12</td>      <th>                     </th>     <td> </td>    \n",
       "</tr>\n",
       "<tr>\n",
       "  <th>Covariance Type:</th>      <td>nonrobust</td>    <th>                     </th>     <td> </td>    \n",
       "</tr>\n",
       "</table>\n",
       "<table class=\"simpletable\">\n",
       "<tr>\n",
       "        <td></td>           <th>coef</th>     <th>std err</th>      <th>t</th>      <th>P>|t|</th>  <th>[0.025</th>    <th>0.975]</th>  \n",
       "</tr>\n",
       "<tr>\n",
       "  <th>const</th>         <td> 2.081e+06</td> <td>  2.8e+04</td> <td>   74.255</td> <td> 0.000</td> <td> 2.03e+06</td> <td> 2.14e+06</td>\n",
       "</tr>\n",
       "<tr>\n",
       "  <th>bedrooms</th>      <td> -1.71e+05</td> <td> 3.67e+04</td> <td>   -4.656</td> <td> 0.000</td> <td>-2.43e+05</td> <td>-9.89e+04</td>\n",
       "</tr>\n",
       "<tr>\n",
       "  <th>bathrooms</th>     <td> 1.374e+05</td> <td> 5.08e+04</td> <td>    2.703</td> <td> 0.007</td> <td> 3.76e+04</td> <td> 2.37e+05</td>\n",
       "</tr>\n",
       "<tr>\n",
       "  <th>sqft_living</th>   <td> 2.156e+05</td> <td> 1.31e+05</td> <td>    1.644</td> <td> 0.100</td> <td>-4.17e+04</td> <td> 4.73e+05</td>\n",
       "</tr>\n",
       "<tr>\n",
       "  <th>floors</th>        <td>-6.864e+04</td> <td> 3.87e+04</td> <td>   -1.775</td> <td> 0.076</td> <td>-1.45e+05</td> <td> 7252.439</td>\n",
       "</tr>\n",
       "<tr>\n",
       "  <th>condition</th>     <td> 1.317e+05</td> <td> 5.55e+04</td> <td>    2.373</td> <td> 0.018</td> <td> 2.28e+04</td> <td> 2.41e+05</td>\n",
       "</tr>\n",
       "<tr>\n",
       "  <th>sqft_above</th>    <td> 4.591e+05</td> <td> 1.15e+05</td> <td>    4.002</td> <td> 0.000</td> <td> 2.34e+05</td> <td> 6.84e+05</td>\n",
       "</tr>\n",
       "<tr>\n",
       "  <th>sqft_basement</th> <td> 2.173e+05</td> <td> 5.27e+04</td> <td>    4.123</td> <td> 0.000</td> <td> 1.14e+05</td> <td> 3.21e+05</td>\n",
       "</tr>\n",
       "<tr>\n",
       "  <th>sqft_garage</th>   <td>-2.857e+05</td> <td> 3.83e+04</td> <td>   -7.451</td> <td> 0.000</td> <td>-3.61e+05</td> <td> -2.1e+05</td>\n",
       "</tr>\n",
       "<tr>\n",
       "  <th>sqft_patio</th>    <td> 7.171e+04</td> <td> 3.38e+04</td> <td>    2.121</td> <td> 0.034</td> <td> 5365.993</td> <td> 1.38e+05</td>\n",
       "</tr>\n",
       "<tr>\n",
       "  <th>zipcode</th>       <td> -5.69e+05</td> <td> 3.51e+04</td> <td>  -16.190</td> <td> 0.000</td> <td>-6.38e+05</td> <td>   -5e+05</td>\n",
       "</tr>\n",
       "<tr>\n",
       "  <th>gradeno</th>       <td>  3.81e+05</td> <td> 5.96e+04</td> <td>    6.395</td> <td> 0.000</td> <td> 2.64e+05</td> <td> 4.98e+05</td>\n",
       "</tr>\n",
       "<tr>\n",
       "  <th>class</th>         <td>-8.795e+04</td> <td> 6.08e+04</td> <td>   -1.446</td> <td> 0.149</td> <td>-2.07e+05</td> <td> 3.14e+04</td>\n",
       "</tr>\n",
       "</table>\n",
       "<table class=\"simpletable\">\n",
       "<tr>\n",
       "  <th>Omnibus:</th>       <td>371.974</td> <th>  Durbin-Watson:     </th> <td>   2.067</td>\n",
       "</tr>\n",
       "<tr>\n",
       "  <th>Prob(Omnibus):</th> <td> 0.000</td>  <th>  Jarque-Bera (JB):  </th> <td>3516.323</td>\n",
       "</tr>\n",
       "<tr>\n",
       "  <th>Skew:</th>          <td> 1.633</td>  <th>  Prob(JB):          </th> <td>    0.00</td>\n",
       "</tr>\n",
       "<tr>\n",
       "  <th>Kurtosis:</th>      <td>12.150</td>  <th>  Cond. No.          </th> <td>    13.6</td>\n",
       "</tr>\n",
       "</table><br/><br/>Notes:<br/>[1] Standard Errors assume that the covariance matrix of the errors is correctly specified."
      ],
      "text/plain": [
       "<class 'statsmodels.iolib.summary.Summary'>\n",
       "\"\"\"\n",
       "                            OLS Regression Results                            \n",
       "==============================================================================\n",
       "Dep. Variable:                  price   R-squared:                       0.678\n",
       "Model:                            OLS   Adj. R-squared:                  0.673\n",
       "Method:                 Least Squares   F-statistic:                     154.3\n",
       "Date:                Thu, 16 Feb 2023   Prob (F-statistic):          5.38e-207\n",
       "Time:                        12:57:44   Log-Likelihood:                -13455.\n",
       "No. Observations:                 894   AIC:                         2.694e+04\n",
       "Df Residuals:                     881   BIC:                         2.700e+04\n",
       "Df Model:                          12                                         \n",
       "Covariance Type:            nonrobust                                         \n",
       "=================================================================================\n",
       "                    coef    std err          t      P>|t|      [0.025      0.975]\n",
       "---------------------------------------------------------------------------------\n",
       "const          2.081e+06    2.8e+04     74.255      0.000    2.03e+06    2.14e+06\n",
       "bedrooms       -1.71e+05   3.67e+04     -4.656      0.000   -2.43e+05   -9.89e+04\n",
       "bathrooms      1.374e+05   5.08e+04      2.703      0.007    3.76e+04    2.37e+05\n",
       "sqft_living    2.156e+05   1.31e+05      1.644      0.100   -4.17e+04    4.73e+05\n",
       "floors        -6.864e+04   3.87e+04     -1.775      0.076   -1.45e+05    7252.439\n",
       "condition      1.317e+05   5.55e+04      2.373      0.018    2.28e+04    2.41e+05\n",
       "sqft_above     4.591e+05   1.15e+05      4.002      0.000    2.34e+05    6.84e+05\n",
       "sqft_basement  2.173e+05   5.27e+04      4.123      0.000    1.14e+05    3.21e+05\n",
       "sqft_garage   -2.857e+05   3.83e+04     -7.451      0.000   -3.61e+05    -2.1e+05\n",
       "sqft_patio     7.171e+04   3.38e+04      2.121      0.034    5365.993    1.38e+05\n",
       "zipcode        -5.69e+05   3.51e+04    -16.190      0.000   -6.38e+05      -5e+05\n",
       "gradeno         3.81e+05   5.96e+04      6.395      0.000    2.64e+05    4.98e+05\n",
       "class         -8.795e+04   6.08e+04     -1.446      0.149   -2.07e+05    3.14e+04\n",
       "==============================================================================\n",
       "Omnibus:                      371.974   Durbin-Watson:                   2.067\n",
       "Prob(Omnibus):                  0.000   Jarque-Bera (JB):             3516.323\n",
       "Skew:                           1.633   Prob(JB):                         0.00\n",
       "Kurtosis:                      12.150   Cond. No.                         13.6\n",
       "==============================================================================\n",
       "\n",
       "Notes:\n",
       "[1] Standard Errors assume that the covariance matrix of the errors is correctly specified.\n",
       "\"\"\""
      ]
     },
     "execution_count": 8,
     "metadata": {},
     "output_type": "execute_result"
    }
   ],
   "source": [
    "X = df15.drop(columns=['price', 'id', 'date', 'sqft_lot', 'waterfront', 'greenbelt', 'nuisance', 'view', 'yr_built', 'yr_renovated', 'address', 'lat', 'long', 'heat_source', 'sewer_system'])\n",
    "y = df15['price']\n",
    "\n",
    "regressionsm(df15, X, y)"
   ]
  },
  {
   "cell_type": "code",
   "execution_count": 10,
   "id": "090f07ca",
   "metadata": {},
   "outputs": [
    {
     "data": {
      "text/plain": [
       "<AxesSubplot:xlabel='price', ylabel='Count'>"
      ]
     },
     "execution_count": 10,
     "metadata": {},
     "output_type": "execute_result"
    },
    {
     "data": {
      "image/png": "[encoded data removed]",
      "text/plain": [
       "<Figure size 640x480 with 1 Axes>"
      ]
     },
     "metadata": {},
     "output_type": "display_data"
    }
   ],
   "source": [
    "sns.histplot(np.log(df15['price']))"
   ]
  },
  {
   "cell_type": "code",
   "execution_count": null,
   "id": "d054df88",
   "metadata": {},
   "outputs": [],
   "source": []
  }
 ],
 "metadata": {
  "kernelspec": {
   "display_name": "Python (learn-env)",
   "language": "python",
   "name": "learn-env"
  },
  "language_info": {
   "codemirror_mode": {
    "name": "ipython",
    "version": 3
   },
   "file_extension": ".py",
   "mimetype": "text/x-python",
   "name": "python",
   "nbconvert_exporter": "python",
   "pygments_lexer": "ipython3",
   "version": "3.8.1"
  }
 },
 "nbformat": 4,
 "nbformat_minor": 5
}
