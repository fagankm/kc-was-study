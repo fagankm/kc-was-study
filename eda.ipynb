{
 "cells": [
  {
   "cell_type": "markdown",
   "id": "350dede1",
   "metadata": {},
   "source": [
    "King County, Washington\n",
    "\n",
    "Here we will conduct exploratory data analysis on housing sale data in King County Washington from June 2021 to June 2022. The goal is to identify the best areas in the county to purchase, renovate, and resell homes. We will look at how to renovate later."
   ]
  },
  {
   "cell_type": "code",
   "execution_count": 1,
   "id": "32a800ef",
   "metadata": {},
   "outputs": [],
   "source": [
    "# Suppress future and deprecation warnings\n",
    "import warnings\n",
    "warnings.filterwarnings(\"ignore\", category = FutureWarning)\n",
    "warnings.filterwarnings(\"ignore\", category = DeprecationWarning)\n",
    "\n",
    "# Standard Packages\n",
    "import pandas as pd\n",
    "import numpy as np\n",
    "import datetime\n",
    "\n",
    "# Viz Packages\n",
    "import seaborn as sns\n",
    "import matplotlib.pyplot as plt\n",
    "\n",
    "# Scipy Stats\n",
    "import scipy.stats as stats \n",
    "\n",
    "# Statsmodel Api\n",
    "import statsmodels.api as sm\n",
    "from statsmodels.formula.api import ols\n",
    "\n",
    "# SKLearn Modules\n",
    "from sklearn.linear_model import LinearRegression\n",
    "from sklearn.feature_selection import RFE\n",
    "from sklearn.preprocessing import StandardScaler, OneHotEncoder\n",
    "from sklearn.model_selection import train_test_split\n",
    "import sklearn.metrics as metrics\n",
    "\n",
    "# Location visualization\n",
    "import folium\n",
    "from folium.plugins import MarkerCluster\n",
    "import streamlit as st\n",
    "from streamlit_folium import folium_static"
   ]
  },
  {
   "cell_type": "code",
   "execution_count": 2,
   "id": "bd14db26",
   "metadata": {},
   "outputs": [],
   "source": [
    "# Pull csv into DataFrame, dataset provided, from https://data.kingcounty.gov/\n",
    "df = pd.read_csv('data/kc_house_data.csv')"
   ]
  },
  {
   "cell_type": "markdown",
   "id": "0c76a304",
   "metadata": {},
   "source": [
    "We will get rid of records outside of the County."
   ]
  },
  {
   "cell_type": "code",
   "execution_count": 3,
   "id": "07f88927",
   "metadata": {},
   "outputs": [],
   "source": [
    "#location mask, will filter by zipcode instead\n",
    "#king_county_loc_mask = (df['lat'] >= 47.1559) & (df['lat'] <= 47.8203) & (df['long'] >= -122.5428) & (df['long'] <= -121.7867)"
   ]
  },
  {
   "cell_type": "code",
   "execution_count": 4,
   "id": "fcf116a8",
   "metadata": {},
   "outputs": [],
   "source": [
    "# Create column for zipcode\n",
    "df['zipcode'] = 1\n",
    "for i in range(len(df['address'])):\n",
    "    df.loc[i, 'zipcode'] = df['address'][i][-20:-15]\n",
    "df['zipcode'] = df['zipcode'].astype(int)"
   ]
  },
  {
   "cell_type": "code",
   "execution_count": 5,
   "id": "ffaf0698",
   "metadata": {},
   "outputs": [],
   "source": [
    "# Pull list of zipcodes associatied with King County, dataset from https://data.kingcounty.gov/\n",
    "z = pd.read_csv('data/Zipcodes_for_King_County_and_Surrounding_Area_(Shorelines)___zipcode_shore_area.csv')\n",
    "z = z[z['COUNTY_NAME'] == 'King County']"
   ]
  },
  {
   "cell_type": "code",
   "execution_count": 6,
   "id": "37a1de59",
   "metadata": {},
   "outputs": [],
   "source": [
    "# Filter house data DataFrame for zipcodes within County\n",
    "in_king_county_mask = df['zipcode'].isin(z['ZIPCODE'])\n",
    "df_king = df[in_king_county_mask]\n",
    "df_king = df_king.drop_duplicates()"
   ]
  },
  {
   "cell_type": "markdown",
   "id": "fafe288f",
   "metadata": {},
   "source": [
    "In an effort to find Zip codes where flipping a house returns the most value, we will classify houses based on 'condition' and 'grade'.\n",
    "\n",
    "According to King County's descriptions of the column names, `condition` is how good the overall condition of the house is from a maintenance perspective. `grade` is the overall grade of the house, related to the construction and design of the house.\n",
    "\n",
    "BUILDING CONDITION\n",
    "     \tRelative to age and grade. Coded 1-5.\n",
    "\n",
    "1 = Poor- Worn out. Repair and overhaul needed on painted surfaces, roofing, plumbing, heating and numerous functional inadequacies. Excessive deferred maintenance and abuse, limited value-in-use, approaching abandonment or major reconstruction; reuse or change in occupancy is imminent. Effective age is near the end of the scale regardless of the actual chronological age.\n",
    "\n",
    "2 = Fair- Badly worn. Much repair needed. Many items need refinishing or overhauling, deferred maintenance obvious, inadequate building utility and systems all shortening the life expectancy and increasing the effective age.\n",
    "\n",
    "3 = Average- Some evidence of deferred maintenance and normal obsolescence with age in that a few minor repairs are needed, along with some refinishing. All major components still functional and contributing toward an extended life expectancy. Effective age and utility is standard for like properties of its class and usage.\n",
    "\n",
    "4 = Good- No obvious maintenance required but neither is everything new. Appearance and utility are above the standard and the overall effective age will be lower than the typical property.\n",
    "\n",
    "5= Very Good- All items well maintained, many having been overhauled and repaired as they have shown signs of wear, increasing the life expectancy and lowering the effective age with little deterioration or obsolescence evident with a high degree of utility.\n",
    "\n",
    "BUILDING GRADE\n",
    "     \tRepresents the construction quality of improvements. Grades run from grade 1 to 13. Generally defined as:\n",
    "\n",
    "1-3 Falls short of minimum building standards. Normally cabin or inferior structure.\n",
    "\n",
    "4 Generally older, low quality construction. Does not meet code.\n",
    "\n",
    "5 Low construction costs and workmanship. Small, simple design.\n",
    "\n",
    "6 Lowest grade currently meeting building code. Low quality materials and simple designs.\n",
    "\n",
    "7 Average grade of construction and design. Commonly seen in plats and older sub-divisions.\n",
    "\n",
    "8 Just above average in construction and design. Usually better materials in both the exterior and interior finish work.\n",
    "\n",
    "9 Better architectural design with extra interior and exterior design and quality.\n",
    "\n",
    "10 Homes of this quality generally have high quality features. Finish work is better and more design quality is seen in the floor plans. Generally have a larger square footage.\n",
    "\n",
    "11 Custom design and higher quality finish work with added amenities of solid woods, bathroom fixtures and more luxurious options.\n",
    "\n",
    "12 Custom design and excellent builders. All materials are of the highest quality and all conveniences are present.\n",
    "\n",
    "13 Generally custom designed and built. Mansion level. Large amount of highest quality cabinet work, wood trim, marble, entry ways etc."
   ]
  },
  {
   "cell_type": "code",
   "execution_count": 7,
   "id": "600f31b3",
   "metadata": {},
   "outputs": [],
   "source": [
    "# Create ordinal numerics for both 'condition' and 'grade'\n",
    "dict = {'Poor':1, 'Fair':2, 'Average':3, 'Good':4, 'Very Good':5}\n",
    "df_king=df_king.replace({\"condition\": dict})\n",
    "\n",
    "df_king['gradeno'] = df_king['grade'].map(lambda x: x[0:2])\n",
    "df_king['gradeno'] = df_king['gradeno'].astype('int')\n",
    "df_king = df_king.drop(columns = 'grade')"
   ]
  },
  {
   "cell_type": "markdown",
   "id": "9ebbb25b",
   "metadata": {},
   "source": [
    "There will be 3 groups. 0 includes all 'Poor' and 'Fair' condition rows, and well as 'Average' condition where grade is 7 or less. Class 2 includes all 'Very good' condition rows, as well as 'Good' condition where grade is 9 or more. Class 1 includes all else."
   ]
  },
  {
   "cell_type": "code",
   "execution_count": 8,
   "id": "7ca939f9",
   "metadata": {},
   "outputs": [],
   "source": [
    "# Create class column\n",
    "def get_class(row):\n",
    "    \"\"\"Classify properties into 3 groups. 0 includes all 'Poor' and 'Fair' condition rows, and well as 'Average' condition where grade is 7 or less.\n",
    "    Class 2 includes all 'Very good' condition rows, as well as 'Good' condition where grade is 9 or more.\n",
    "    Class 1 includes all else.\"\"\"\n",
    "    if row['condition'] <= 2:\n",
    "        return 0\n",
    "    elif row['condition'] == 3 and row['gradeno'] <= 7:\n",
    "        return 0\n",
    "    elif row['condition'] == 5:\n",
    "        return 2\n",
    "    elif row['condition'] == 4 and row['gradeno'] >= 9:\n",
    "        return 2\n",
    "    else:\n",
    "        return 1\n",
    "\n",
    "df_king['class'] = df_king.apply(get_class, axis=1)"
   ]
  },
  {
   "cell_type": "code",
   "execution_count": 9,
   "id": "8d2553d6",
   "metadata": {},
   "outputs": [],
   "source": [
    "# Find difference between class 2 and class 0 median property values per zip, neglecting zip codes with null values\n",
    "df_median_price = pd.pivot_table(df_king, values='price', index='zipcode', columns='class', aggfunc='median')\n",
    "df_median_price = df_median_price.dropna()\n",
    "df_median_price = df_median_price.reset_index()\n",
    "df_median_price['diff'] = df_median_price[2] - df_median_price[0]\n",
    "df_median_price = df_median_price.rename(columns={'zipcode': 'ZIPCODE'})"
   ]
  },
  {
   "cell_type": "markdown",
   "id": "8846bf92",
   "metadata": {},
   "source": [
    "This is visualized the visualization notebook and in Zip_select_map.py"
   ]
  },
  {
   "cell_type": "code",
   "execution_count": 10,
   "id": "024760d2",
   "metadata": {},
   "outputs": [
    {
     "data": {
      "text/html": [
       "<div>\n",
       "<style scoped>\n",
       "    .dataframe tbody tr th:only-of-type {\n",
       "        vertical-align: middle;\n",
       "    }\n",
       "\n",
       "    .dataframe tbody tr th {\n",
       "        vertical-align: top;\n",
       "    }\n",
       "\n",
       "    .dataframe thead th {\n",
       "        text-align: right;\n",
       "    }\n",
       "</style>\n",
       "<table border=\"1\" class=\"dataframe\">\n",
       "  <thead>\n",
       "    <tr style=\"text-align: right;\">\n",
       "      <th>class</th>\n",
       "      <th>ZIPCODE</th>\n",
       "      <th>0</th>\n",
       "      <th>1</th>\n",
       "      <th>2</th>\n",
       "      <th>diff</th>\n",
       "    </tr>\n",
       "  </thead>\n",
       "  <tbody>\n",
       "    <tr>\n",
       "      <th>24</th>\n",
       "      <td>98039</td>\n",
       "      <td>2515000.0</td>\n",
       "      <td>4300000.0</td>\n",
       "      <td>5100000.0</td>\n",
       "      <td>2585000.0</td>\n",
       "    </tr>\n",
       "    <tr>\n",
       "      <th>3</th>\n",
       "      <td>98004</td>\n",
       "      <td>1817000.0</td>\n",
       "      <td>3438000.0</td>\n",
       "      <td>3375000.0</td>\n",
       "      <td>1558000.0</td>\n",
       "    </tr>\n",
       "    <tr>\n",
       "      <th>51</th>\n",
       "      <td>98112</td>\n",
       "      <td>950000.0</td>\n",
       "      <td>1355200.0</td>\n",
       "      <td>2275000.0</td>\n",
       "      <td>1325000.0</td>\n",
       "    </tr>\n",
       "    <tr>\n",
       "      <th>42</th>\n",
       "      <td>98077</td>\n",
       "      <td>827000.0</td>\n",
       "      <td>1500000.0</td>\n",
       "      <td>1835000.0</td>\n",
       "      <td>1008000.0</td>\n",
       "    </tr>\n",
       "    <tr>\n",
       "      <th>46</th>\n",
       "      <td>98105</td>\n",
       "      <td>877500.0</td>\n",
       "      <td>1285000.0</td>\n",
       "      <td>1870000.0</td>\n",
       "      <td>992500.0</td>\n",
       "    </tr>\n",
       "  </tbody>\n",
       "</table>\n",
       "</div>"
      ],
      "text/plain": [
       "class  ZIPCODE          0          1          2       diff\n",
       "24       98039  2515000.0  4300000.0  5100000.0  2585000.0\n",
       "3        98004  1817000.0  3438000.0  3375000.0  1558000.0\n",
       "51       98112   950000.0  1355200.0  2275000.0  1325000.0\n",
       "42       98077   827000.0  1500000.0  1835000.0  1008000.0\n",
       "46       98105   877500.0  1285000.0  1870000.0   992500.0"
      ]
     },
     "execution_count": 10,
     "metadata": {},
     "output_type": "execute_result"
    }
   ],
   "source": [
    "# View the top 5 in difference in value\n",
    "df_median_price.sort_values('diff', ascending=False).head()"
   ]
  },
  {
   "cell_type": "markdown",
   "id": "67da1be3",
   "metadata": {},
   "source": [
    "We will focus on the top 5 zipcodes.\n",
    "\n",
    "98039, \\$2,585,000, Medina\n",
    "\n",
    "98004, \\$1,558,000, Bellvue\n",
    "\n",
    "98112, \\$1,325,000, Seattle\n",
    "\n",
    "98077, \\$1,008,000, Woodinville\n",
    "\n",
    "98105, \\$992,500, Seattle"
   ]
  },
  {
   "cell_type": "code",
   "execution_count": 11,
   "id": "5b940dee",
   "metadata": {},
   "outputs": [],
   "source": [
    "# Create DataFrames for our selected Zips.\n",
    "df1 = df_king[df_king['zipcode']==98039]\n",
    "df2 = df_king[df_king['zipcode']==98004] \n",
    "df3 = df_king[df_king['zipcode']==98112]\n",
    "df4 = df_king[df_king['zipcode']==98077]\n",
    "df5 = df_king[df_king['zipcode']==98105] \n",
    "\n",
    "# Create a DataFrame of all 5\n",
    "df15 =  pd.concat([df1,df2,df3,df4,df5])"
   ]
  },
  {
   "cell_type": "code",
   "execution_count": 12,
   "id": "690f50ae",
   "metadata": {},
   "outputs": [],
   "source": [
    "# Save the Dataframes for later use\n",
    "df1.to_pickle('data/df1.pkl')\n",
    "df2.to_pickle('data/df2.pkl')\n",
    "df3.to_pickle('data/df3.pkl')\n",
    "df4.to_pickle('data/df4.pkl')\n",
    "df5.to_pickle('data/df5.pkl')\n",
    "df15.to_pickle('data/df15.pkl')"
   ]
  }
 ],
 "metadata": {
  "kernelspec": {
   "display_name": "Python (learn-env)",
   "language": "python",
   "name": "learn-env"
  },
  "language_info": {
   "codemirror_mode": {
    "name": "ipython",
    "version": 3
   },
   "file_extension": ".py",
   "mimetype": "text/x-python",
   "name": "python",
   "nbconvert_exporter": "python",
   "pygments_lexer": "ipython3",
   "version": "3.8.1"
  }
 },
 "nbformat": 4,
 "nbformat_minor": 5
}
