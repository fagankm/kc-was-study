{
 "cells": [
  {
   "cell_type": "markdown",
   "id": "350dede1",
   "metadata": {},
   "source": [
    "King County, Washington\n",
    "\n",
    "Here we will conduct exploratory data analysis on housing sale data in King County Washington from June 2021 to June 2022. The goal is to identify the best areas in the county to purchase, renovate, and resell homes. We will look at how to renovate later."
   ]
  },
  {
   "cell_type": "code",
   "execution_count": 10,
   "id": "32a800ef",
   "metadata": {},
   "outputs": [],
   "source": [
    "# Suppress future and deprecation warnings\n",
    "import warnings\n",
    "warnings.filterwarnings(\"ignore\", category = FutureWarning)\n",
    "warnings.filterwarnings(\"ignore\", category = DeprecationWarning)\n",
    "\n",
    "# Standard Packages\n",
    "import pandas as pd\n",
    "import numpy as np\n",
    "import datetime\n",
    "\n",
    "# Viz Packages\n",
    "import seaborn as sns\n",
    "import matplotlib.pyplot as plt\n",
    "\n",
    "# Scipy Stats\n",
    "import scipy.stats as stats \n",
    "\n",
    "# Statsmodel Api\n",
    "import statsmodels.api as sm\n",
    "from statsmodels.formula.api import ols\n",
    "\n",
    "# SKLearn Modules\n",
    "from sklearn.linear_model import LinearRegression\n",
    "from sklearn.feature_selection import RFE\n",
    "from sklearn.preprocessing import StandardScaler, OneHotEncoder\n",
    "from sklearn.model_selection import train_test_split\n",
    "import sklearn.metrics as metrics\n",
    "\n",
    "# Location visualization\n",
    "import folium\n",
    "from folium.plugins import MarkerCluster\n",
    "import streamlit as st\n",
    "from streamlit_folium import folium_static"
   ]
  },
  {
   "cell_type": "code",
   "execution_count": 11,
   "id": "bd14db26",
   "metadata": {},
   "outputs": [],
   "source": [
    "# Pull csv into DataFrame, dataset provided, from https://data.kingcounty.gov/\n",
    "df = pd.read_csv('data/kc_house_data.csv')"
   ]
  },
  {
   "cell_type": "markdown",
   "id": "0c76a304",
   "metadata": {},
   "source": [
    "We will get rid of records outside of the County."
   ]
  },
  {
   "cell_type": "code",
   "execution_count": 12,
   "id": "07f88927",
   "metadata": {},
   "outputs": [],
   "source": [
    "#location mask, will filter by zipcode instead\n",
    "#king_county_loc_mask = (df['lat'] >= 47.1559) & (df['lat'] <= 47.8203) & (df['long'] >= -122.5428) & (df['long'] <= -121.7867)"
   ]
  },
  {
   "cell_type": "code",
   "execution_count": 13,
   "id": "fcf116a8",
   "metadata": {},
   "outputs": [],
   "source": [
    "# Create column for zipcode\n",
    "df['zipcode'] = 1\n",
    "for i in range(len(df['address'])):\n",
    "    df.loc[i, 'zipcode'] = df['address'][i][-20:-15]\n",
    "df['zipcode'] = df['zipcode'].astype(int)"
   ]
  },
  {
   "cell_type": "code",
   "execution_count": 14,
   "id": "ffaf0698",
   "metadata": {},
   "outputs": [],
   "source": [
    "# Pull list of zipcodes associatied with King County, dataset from https://data.kingcounty.gov/\n",
    "z = pd.read_csv('data/Zipcodes_for_King_County_and_Surrounding_Area_(Shorelines)___zipcode_shore_area.csv')\n",
    "z = z[z['COUNTY_NAME'] == 'King County']"
   ]
  },
  {
   "cell_type": "code",
   "execution_count": 15,
   "id": "37a1de59",
   "metadata": {},
   "outputs": [],
   "source": [
    "# Filter house data DataFrame for zipcodes within County\n",
    "in_king_county_mask = df['zipcode'].isin(z['ZIPCODE'])\n",
    "df_king = df[in_king_county_mask]\n",
    "df_king = df_king.drop_duplicates()"
   ]
  },
  {
   "cell_type": "markdown",
   "id": "fafe288f",
   "metadata": {},
   "source": [
    "In an effort to find Zip codes where flipping a house returns the most value, we will classify houses based on 'condition' and 'grade'.\n",
    "\n",
    "According to King County's descriptions of the column names, `condition` is how good the overall condition of the house is from a maintenance perspective. `grade` is the overall grade of the house, related to the construction and design of the house.\n",
    "\n",
    "BUILDING CONDITION\n",
    "     \tRelative to age and grade. Coded 1-5.\n",
    "\n",
    "1 = Poor- Worn out. Repair and overhaul needed on painted surfaces, roofing, plumbing, heating and numerous functional inadequacies. Excessive deferred maintenance and abuse, limited value-in-use, approaching abandonment or major reconstruction; reuse or change in occupancy is imminent. Effective age is near the end of the scale regardless of the actual chronological age.\n",
    "\n",
    "2 = Fair- Badly worn. Much repair needed. Many items need refinishing or overhauling, deferred maintenance obvious, inadequate building utility and systems all shortening the life expectancy and increasing the effective age.\n",
    "\n",
    "3 = Average- Some evidence of deferred maintenance and normal obsolescence with age in that a few minor repairs are needed, along with some refinishing. All major components still functional and contributing toward an extended life expectancy. Effective age and utility is standard for like properties of its class and usage.\n",
    "\n",
    "4 = Good- No obvious maintenance required but neither is everything new. Appearance and utility are above the standard and the overall effective age will be lower than the typical property.\n",
    "\n",
    "5= Very Good- All items well maintained, many having been overhauled and repaired as they have shown signs of wear, increasing the life expectancy and lowering the effective age with little deterioration or obsolescence evident with a high degree of utility.\n",
    "\n",
    "BUILDING GRADE\n",
    "     \tRepresents the construction quality of improvements. Grades run from grade 1 to 13. Generally defined as:\n",
    "\n",
    "1-3 Falls short of minimum building standards. Normally cabin or inferior structure.\n",
    "\n",
    "4 Generally older, low quality construction. Does not meet code.\n",
    "\n",
    "5 Low construction costs and workmanship. Small, simple design.\n",
    "\n",
    "6 Lowest grade currently meeting building code. Low quality materials and simple designs.\n",
    "\n",
    "7 Average grade of construction and design. Commonly seen in plats and older sub-divisions.\n",
    "\n",
    "8 Just above average in construction and design. Usually better materials in both the exterior and interior finish work.\n",
    "\n",
    "9 Better architectural design with extra interior and exterior design and quality.\n",
    "\n",
    "10 Homes of this quality generally have high quality features. Finish work is better and more design quality is seen in the floor plans. Generally have a larger square footage.\n",
    "\n",
    "11 Custom design and higher quality finish work with added amenities of solid woods, bathroom fixtures and more luxurious options.\n",
    "\n",
    "12 Custom design and excellent builders. All materials are of the highest quality and all conveniences are present.\n",
    "\n",
    "13 Generally custom designed and built. Mansion level. Large amount of highest quality cabinet work, wood trim, marble, entry ways etc."
   ]
  },
  {
   "cell_type": "code",
   "execution_count": 16,
   "id": "600f31b3",
   "metadata": {},
   "outputs": [],
   "source": [
    "# Create ordinal numerics for both 'condition' and 'grade'\n",
    "dict = {'Poor':1, 'Fair':2, 'Average':3, 'Good':4, 'Very Good':5}\n",
    "df_king = df_king.replace({\"condition\": dict})\n",
    "\n",
    "df_king['gradeno'] = df_king['grade'].map(lambda x: x[0:2])\n",
    "df_king['gradeno'] = df_king['gradeno'].astype('int')\n",
    "df_king = df_king.drop(columns = 'grade')"
   ]
  },
  {
   "attachments": {},
   "cell_type": "markdown",
   "id": "264aa8cc",
   "metadata": {},
   "source": [
    "We will seperate the data into subsets for each zip code."
   ]
  },
  {
   "attachments": {},
   "cell_type": "markdown",
   "id": "9ebbb25b",
   "metadata": {},
   "source": [
    "We will seperate the data into subsets for each zip code, then perform outlier removal using 1.5*IQR. Then we will classify each property. There will be 3 groups. 0 includes all 'Poor' and 'Fair' condition rows, and well as 'Average' condition where grade is 7 or less. Class 2 includes all 'Very good' condition rows, as well as 'Good' condition where grade is 9 or more. Class 1 includes all else."
   ]
  },
  {
   "cell_type": "code",
   "execution_count": 17,
   "id": "d5927c98",
   "metadata": {},
   "outputs": [],
   "source": [
    "# # Create an empty dictionary to store the subset dataframes\n",
    "# df_dict = {}\n",
    "\n",
    "# # Each key will refer to a subset dataframe\n",
    "# for zip_code in df_king['zipcode'].unique():\n",
    "#         zip_df = df_king[df_king['zipcode'] == zip_code]\n",
    "#         df_dict[zip_code] = zip_df"
   ]
  },
  {
   "cell_type": "code",
   "execution_count": 18,
   "id": "c7421164",
   "metadata": {},
   "outputs": [],
   "source": [
    "# # Perform outlier removal for all subsets\n",
    "# for key in df_dict.keys():\n",
    "#     subset_df = df_dict[key]\n",
    "#     q75, q25 = np.percentile(subset_df.loc[:, 'price'], [75, 25])\n",
    "#     intr_qr = q75 - q25\n",
    "#     max_val = q75 + (1.5 * intr_qr)\n",
    "#     min_val = q25 - (1.5 * intr_qr)\n",
    "#     subset_df.loc[subset_df.loc[:, 'price'] > max_val, 'price'] = np.nan\n",
    "#     subset_df.loc[subset_df.loc[:, 'price'] < min_val, 'price'] = np.nan\n",
    "#     subset_df.dropna(subset=['price'], inplace=True)\n",
    "#     # Update the dictionary with the cleaned subset DataFrame\n",
    "#     df_dict[key] = subset_df\n"
   ]
  },
  {
   "cell_type": "code",
   "execution_count": 19,
   "id": "f8b7a4eb",
   "metadata": {},
   "outputs": [],
   "source": [
    "def get_class(row):\n",
    "    \"\"\"Classify properties into 3 groups. 0 includes all 'Poor' and 'Fair' condition rows, and well as 'Average' condition where grade is 7 or less.\n",
    "    Class 2 includes all 'Very good' condition rows, as well as 'Good' condition where grade is 9 or more.\n",
    "    Class 1 includes all else.\"\"\"\n",
    "    if row['condition'] <= 2:\n",
    "        return 0\n",
    "    elif row['condition'] == 3 and row['gradeno'] <= 7:\n",
    "        return 0\n",
    "    elif row['condition'] == 5:\n",
    "        return 2\n",
    "    elif row['condition'] == 4 and row['gradeno'] >= 9:\n",
    "        return 2\n",
    "    else:\n",
    "        return 1"
   ]
  },
  {
   "cell_type": "code",
   "execution_count": 20,
   "id": "0850b5c3",
   "metadata": {},
   "outputs": [],
   "source": [
    "df_dict = {}\n",
    "\n",
    "# Iterate over the zip codes\n",
    "for zip_code in df_king['zipcode'].unique():\n",
    "    # Create a subset DataFrame for the current zip code\n",
    "    zip_df = df_king[df_king['zipcode'] == zip_code]\n",
    "    \n",
    "    # Perform outlier removal based on price to the subset\n",
    "    for x in ['price']:\n",
    "        q75, q25 = np.percentile(zip_df.loc[:, x], [75, 25])\n",
    "        intr_qr = q75 - q25\n",
    "        max_val = q75 + (1.5 * intr_qr)\n",
    "        min_val = q25 - (1.5 * intr_qr)\n",
    "        zip_df.loc[zip_df.loc[:, x] > max_val, x] = np.nan\n",
    "        zip_df.loc[zip_df.loc[:, x] < min_val, x] = np.nan\n",
    "        zip_df = zip_df.dropna(subset=[x])\n",
    "    \n",
    "    # Classify each property\n",
    "    zip_df['class'] = zip_df.apply(get_class, axis=1)\n",
    "\n",
    "    # Add the subset DataFrame to the dictionary with the zip code as the key\n",
    "    df_dict[zip_code] = zip_df\n"
   ]
  },
  {
   "cell_type": "code",
   "execution_count": 22,
   "id": "712b376d",
   "metadata": {},
   "outputs": [],
   "source": [
    "zip_median_class = pd.DataFrame(columns=['zipcode', 'class', 'median_price'])\n",
    "\n",
    "# Iterate over the keys (zip codes) in the dictionary\n",
    "for key in df_dict.keys():\n",
    "    # Select the subset DataFrame for the current key\n",
    "    subset_df = df_dict[key]\n",
    "    # Compute the medians for each class using groupby() and median()\n",
    "    class_medians = subset_df.groupby('class')['price'].median()\n",
    "    # Create a new DataFrame with the zip code, class, and median price for each class\n",
    "    zip_df = pd.DataFrame({'zipcode': [key]*len(class_medians), 'class': class_medians.index, 'median_price': class_medians.values})\n",
    "    # Append the new DataFrame to the result DataFrame\n",
    "    zip_median_class = zip_median_class.append(zip_df)\n",
    "\n",
    "# Reset the index of the result DataFrame\n",
    "zip_median_class.reset_index(drop=True, inplace=True)\n",
    "\n",
    "# Reshape the result DataFrame using pivot()\n",
    "zip_median_class = zip_median_class.pivot(index='zipcode', columns='class', values='median_price')\n",
    "zip_median_class.reset_index(inplace=True)\n"
   ]
  },
  {
   "cell_type": "code",
   "execution_count": 24,
   "id": "80cf5942",
   "metadata": {},
   "outputs": [],
   "source": [
    "zip_median_class['diff'] = zip_median_class[2] - zip_median_class[0]\n",
    "zip_median_class = zip_median_class.rename(columns={'zipcode': 'ZIPCODE'})"
   ]
  },
  {
   "cell_type": "code",
   "execution_count": 25,
   "id": "35583b75",
   "metadata": {},
   "outputs": [
    {
     "data": {
      "text/html": [
       "<div>\n",
       "<style scoped>\n",
       "    .dataframe tbody tr th:only-of-type {\n",
       "        vertical-align: middle;\n",
       "    }\n",
       "\n",
       "    .dataframe tbody tr th {\n",
       "        vertical-align: top;\n",
       "    }\n",
       "\n",
       "    .dataframe thead th {\n",
       "        text-align: right;\n",
       "    }\n",
       "</style>\n",
       "<table border=\"1\" class=\"dataframe\">\n",
       "  <thead>\n",
       "    <tr style=\"text-align: right;\">\n",
       "      <th>class</th>\n",
       "      <th>ZIPCODE</th>\n",
       "      <th>0</th>\n",
       "      <th>1</th>\n",
       "      <th>2</th>\n",
       "      <th>diff</th>\n",
       "    </tr>\n",
       "  </thead>\n",
       "  <tbody>\n",
       "    <tr>\n",
       "      <th>24</th>\n",
       "      <td>98039</td>\n",
       "      <td>2515000.0</td>\n",
       "      <td>4052500.0</td>\n",
       "      <td>5100000.0</td>\n",
       "      <td>2585000.0</td>\n",
       "    </tr>\n",
       "    <tr>\n",
       "      <th>3</th>\n",
       "      <td>98004</td>\n",
       "      <td>1817000.0</td>\n",
       "      <td>3298000.0</td>\n",
       "      <td>3235000.0</td>\n",
       "      <td>1418000.0</td>\n",
       "    </tr>\n",
       "    <tr>\n",
       "      <th>52</th>\n",
       "      <td>98112</td>\n",
       "      <td>950000.0</td>\n",
       "      <td>1332500.0</td>\n",
       "      <td>2149500.0</td>\n",
       "      <td>1199500.0</td>\n",
       "    </tr>\n",
       "    <tr>\n",
       "      <th>43</th>\n",
       "      <td>98077</td>\n",
       "      <td>827000.0</td>\n",
       "      <td>1450000.0</td>\n",
       "      <td>1795000.0</td>\n",
       "      <td>968000.0</td>\n",
       "    </tr>\n",
       "    <tr>\n",
       "      <th>51</th>\n",
       "      <td>98109</td>\n",
       "      <td>977500.0</td>\n",
       "      <td>1412500.0</td>\n",
       "      <td>1799950.0</td>\n",
       "      <td>822450.0</td>\n",
       "    </tr>\n",
       "  </tbody>\n",
       "</table>\n",
       "</div>"
      ],
      "text/plain": [
       "class  ZIPCODE          0          1          2       diff\n",
       "24       98039  2515000.0  4052500.0  5100000.0  2585000.0\n",
       "3        98004  1817000.0  3298000.0  3235000.0  1418000.0\n",
       "52       98112   950000.0  1332500.0  2149500.0  1199500.0\n",
       "43       98077   827000.0  1450000.0  1795000.0   968000.0\n",
       "51       98109   977500.0  1412500.0  1799950.0   822450.0"
      ]
     },
     "execution_count": 25,
     "metadata": {},
     "output_type": "execute_result"
    }
   ],
   "source": [
    "# View the top 5 in difference in value\n",
    "zip_median_class.sort_values('diff', ascending=False).head()"
   ]
  },
  {
   "cell_type": "code",
   "execution_count": 26,
   "id": "8b882e4b",
   "metadata": {},
   "outputs": [],
   "source": [
    "zip_mean_class = pd.DataFrame(columns=['zipcode', 'class', 'mean_price'])\n",
    "\n",
    "# Iterate over the keys (zip codes) in the dictionary\n",
    "for key in df_dict.keys():\n",
    "    # Select the subset DataFrame for the current key\n",
    "    subset_df = df_dict[key]\n",
    "    # Compute the means for each class using groupby() and mean()\n",
    "    class_means = subset_df.groupby('class')['price'].mean()\n",
    "    # Create a new DataFrame with the zip code, class, and mean price for each class\n",
    "    zip_df = pd.DataFrame({'zipcode': [key]*len(class_means), 'class': class_means.index, 'mean_price': class_means.values})\n",
    "    # Append the new DataFrame to the result DataFrame\n",
    "    zip_mean_class = zip_mean_class.append(zip_df)\n",
    "\n",
    "# Reset the index of the result DataFrame\n",
    "zip_mean_class.reset_index(drop=True, inplace=True)\n",
    "\n",
    "# Reshape the result DataFrame using pivot()\n",
    "zip_mean_class = zip_mean_class.pivot(index='zipcode', columns='class', values='mean_price')\n",
    "zip_mean_class.reset_index(inplace=True)\n"
   ]
  },
  {
   "cell_type": "code",
   "execution_count": 27,
   "id": "7fbb0eb0",
   "metadata": {},
   "outputs": [],
   "source": [
    "zip_mean_class['diff'] = zip_mean_class[2] - zip_mean_class[0]\n",
    "zip_mean_class = zip_mean_class.rename(columns={'zipcode': 'ZIPCODE'})"
   ]
  },
  {
   "cell_type": "code",
   "execution_count": 28,
   "id": "419402b7",
   "metadata": {},
   "outputs": [
    {
     "data": {
      "text/html": [
       "<div>\n",
       "<style scoped>\n",
       "    .dataframe tbody tr th:only-of-type {\n",
       "        vertical-align: middle;\n",
       "    }\n",
       "\n",
       "    .dataframe tbody tr th {\n",
       "        vertical-align: top;\n",
       "    }\n",
       "\n",
       "    .dataframe thead th {\n",
       "        text-align: right;\n",
       "    }\n",
       "</style>\n",
       "<table border=\"1\" class=\"dataframe\">\n",
       "  <thead>\n",
       "    <tr style=\"text-align: right;\">\n",
       "      <th>class</th>\n",
       "      <th>ZIPCODE</th>\n",
       "      <th>0</th>\n",
       "      <th>1</th>\n",
       "      <th>2</th>\n",
       "      <th>diff</th>\n",
       "    </tr>\n",
       "  </thead>\n",
       "  <tbody>\n",
       "    <tr>\n",
       "      <th>24</th>\n",
       "      <td>98039</td>\n",
       "      <td>2.975000e+06</td>\n",
       "      <td>4.701639e+06</td>\n",
       "      <td>5.258818e+06</td>\n",
       "      <td>2.283818e+06</td>\n",
       "    </tr>\n",
       "    <tr>\n",
       "      <th>3</th>\n",
       "      <td>98004</td>\n",
       "      <td>2.103909e+06</td>\n",
       "      <td>3.502628e+06</td>\n",
       "      <td>3.514999e+06</td>\n",
       "      <td>1.411090e+06</td>\n",
       "    </tr>\n",
       "    <tr>\n",
       "      <th>52</th>\n",
       "      <td>98112</td>\n",
       "      <td>1.001774e+06</td>\n",
       "      <td>1.563299e+06</td>\n",
       "      <td>2.215081e+06</td>\n",
       "      <td>1.213307e+06</td>\n",
       "    </tr>\n",
       "    <tr>\n",
       "      <th>43</th>\n",
       "      <td>98077</td>\n",
       "      <td>8.302565e+05</td>\n",
       "      <td>1.533121e+06</td>\n",
       "      <td>1.772076e+06</td>\n",
       "      <td>9.418192e+05</td>\n",
       "    </tr>\n",
       "    <tr>\n",
       "      <th>51</th>\n",
       "      <td>98109</td>\n",
       "      <td>1.062298e+06</td>\n",
       "      <td>1.517595e+06</td>\n",
       "      <td>1.860589e+06</td>\n",
       "      <td>7.982914e+05</td>\n",
       "    </tr>\n",
       "  </tbody>\n",
       "</table>\n",
       "</div>"
      ],
      "text/plain": [
       "class  ZIPCODE             0             1             2          diff\n",
       "24       98039  2.975000e+06  4.701639e+06  5.258818e+06  2.283818e+06\n",
       "3        98004  2.103909e+06  3.502628e+06  3.514999e+06  1.411090e+06\n",
       "52       98112  1.001774e+06  1.563299e+06  2.215081e+06  1.213307e+06\n",
       "43       98077  8.302565e+05  1.533121e+06  1.772076e+06  9.418192e+05\n",
       "51       98109  1.062298e+06  1.517595e+06  1.860589e+06  7.982914e+05"
      ]
     },
     "execution_count": 28,
     "metadata": {},
     "output_type": "execute_result"
    }
   ],
   "source": [
    "# View the top 5 in difference in value\n",
    "zip_mean_class.sort_values('diff', ascending=False).head()"
   ]
  },
  {
   "cell_type": "code",
   "execution_count": null,
   "id": "7ca939f9",
   "metadata": {},
   "outputs": [],
   "source": [
    "# # Create class column\n",
    "# def get_class(row):\n",
    "#     \"\"\"Classify properties into 3 groups. 0 includes all 'Poor' and 'Fair' condition rows, and well as 'Average' condition where grade is 7 or less.\n",
    "#     Class 2 includes all 'Very good' condition rows, as well as 'Good' condition where grade is 9 or more.\n",
    "#     Class 1 includes all else.\"\"\"\n",
    "#     if row['condition'] <= 2:\n",
    "#         return 0\n",
    "#     elif row['condition'] == 3 and row['gradeno'] <= 7:\n",
    "#         return 0\n",
    "#     elif row['condition'] == 5:\n",
    "#         return 2\n",
    "#     elif row['condition'] == 4 and row['gradeno'] >= 9:\n",
    "#         return 2\n",
    "#     else:\n",
    "#         return 1\n",
    "\n",
    "# df_king['class'] = df_king.apply(get_class, axis=1)"
   ]
  },
  {
   "cell_type": "code",
   "execution_count": null,
   "id": "8d2553d6",
   "metadata": {},
   "outputs": [],
   "source": [
    "# # Find difference between class 2 and class 0 median property values per zip, neglecting zip codes with null values\n",
    "# df_median_price = pd.pivot_table(df_king, values='price', index='zipcode', columns='class', aggfunc='median')\n",
    "# df_median_price = df_median_price.dropna()\n",
    "# df_median_price = df_median_price.reset_index()\n",
    "# df_median_price['diff'] = df_median_price[2] - df_median_price[0]\n",
    "# df_median_price = df_median_price.rename(columns={'zipcode': 'ZIPCODE'})"
   ]
  },
  {
   "cell_type": "markdown",
   "id": "8846bf92",
   "metadata": {},
   "source": [
    "This is visualized the visualization notebook and in Zip_select_map.py"
   ]
  },
  {
   "cell_type": "code",
   "execution_count": null,
   "id": "024760d2",
   "metadata": {},
   "outputs": [],
   "source": [
    "# # View the top 5 in difference in value\n",
    "# df_median_price.sort_values('diff', ascending=False).head()"
   ]
  },
  {
   "attachments": {},
   "cell_type": "markdown",
   "id": "67da1be3",
   "metadata": {},
   "source": [
    "We will focus on the top 5 zipcodes.\n",
    "\n",
    "98039, Medina\n",
    "\n",
    "98004, Bellvue\n",
    "\n",
    "98112, Seattle\n",
    "\n",
    "98077, Woodinville\n",
    "\n",
    "98109, Seattle"
   ]
  },
  {
   "cell_type": "code",
   "execution_count": 30,
   "id": "5b940dee",
   "metadata": {},
   "outputs": [],
   "source": [
    "# Create DataFrames for our selected Zips.\n",
    "df1 = df_dict[98039]\n",
    "df2 = df_dict[98004]\n",
    "df3 = df_dict[98112]\n",
    "df4 = df_dict[98077]\n",
    "df5 = df_dict[98105]\n",
    "\n",
    "# Create a DataFrame of all 5\n",
    "df15 =  pd.concat([df1,df2,df3,df4,df5])"
   ]
  },
  {
   "cell_type": "code",
   "execution_count": 32,
   "id": "690f50ae",
   "metadata": {},
   "outputs": [],
   "source": [
    "# Save the Dataframes for later use\n",
    "df_king.to_pickle('data/df_king.pkl')\n",
    "df1.to_pickle('data/df1.pkl')\n",
    "df2.to_pickle('data/df2.pkl')\n",
    "df3.to_pickle('data/df3.pkl')\n",
    "df4.to_pickle('data/df4.pkl')\n",
    "df5.to_pickle('data/df5.pkl')\n",
    "df15.to_pickle('data/df15.pkl')"
   ]
  },
  {
   "cell_type": "code",
   "execution_count": null,
   "id": "792f859c",
   "metadata": {},
   "outputs": [],
   "source": []
  }
 ],
 "metadata": {
  "kernelspec": {
   "display_name": "Python (learn-env)",
   "language": "python",
   "name": "learn-env"
  },
  "language_info": {
   "codemirror_mode": {
    "name": "ipython",
    "version": 3
   },
   "file_extension": ".py",
   "mimetype": "text/x-python",
   "name": "python",
   "nbconvert_exporter": "python",
   "pygments_lexer": "ipython3",
   "version": "3.8.1"
  }
 },
 "nbformat": 4,
 "nbformat_minor": 5
}
