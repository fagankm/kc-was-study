{
 "cells": [
  {
   "cell_type": "markdown",
   "id": "350dede1",
   "metadata": {},
   "source": [
    "King County, Washington\n",
    "\n",
    "Here we will conduct exploratory data analysis on housing sale data in King County Washington from June 2021 to June 2022. The goal is to identify the best areas in the county to purchase, renovate, and resell homes."
   ]
  },
  {
   "cell_type": "code",
   "execution_count": 2,
   "id": "32a800ef",
   "metadata": {},
   "outputs": [],
   "source": [
    "# Standard Packages\n",
    "import pandas as pd\n",
    "import numpy as np\n",
    "import datetime\n",
    "\n",
    "# Viz Packages\n",
    "import seaborn as sns\n",
    "import matplotlib.pyplot as plt\n",
    "\n",
    "# Scipy Stats\n",
    "import scipy.stats as stats \n",
    "\n",
    "# Statsmodel Api\n",
    "import statsmodels.api as sm\n",
    "from statsmodels.formula.api import ols\n",
    "\n",
    "# SKLearn Modules\n",
    "from sklearn.linear_model import LinearRegression\n",
    "from sklearn.feature_selection import RFE\n",
    "from sklearn.preprocessing import StandardScaler, OneHotEncoder\n",
    "from sklearn.model_selection import train_test_split\n",
    "import sklearn.metrics as metrics\n",
    "\n",
    "# Location visualization\n",
    "import folium\n",
    "from folium.plugins import MarkerCluster"
   ]
  },
  {
   "cell_type": "code",
   "execution_count": 5,
   "id": "dff03e6a",
   "metadata": {},
   "outputs": [],
   "source": [
    "# From https://data.kingcounty.gov/\n",
    "\n",
    "df = pd.read_csv('data/kc_house_data.csv')\n",
    "zip_df = pd.read_csv('data/Zipcodes_for_King_County_and_Surrounding_Area_(Shorelines)___zipcode_shore_area.csv')"
   ]
  },
  {
   "cell_type": "code",
   "execution_count": null,
   "id": "fcf116a8",
   "metadata": {},
   "outputs": [],
   "source": [
    "# Create list of zipcodes within King County\n",
    "\n",
    "king_county_zips = zip_df[zip_df['COUNTY_NAME'] == 'King County']['ZIP'].tolist()"
   ]
  },
  {
   "cell_type": "code",
   "execution_count": null,
   "id": "07f88927",
   "metadata": {},
   "outputs": [],
   "source": [
    "#location mask\n",
    "#king_county_loc_mask = (df['lat'] >= 47.1559) & (df['lat'] <= 47.8203) & (df['long'] >= -122.5428) & (df['long'] <= -121.7867)"
   ]
  }
 ],
 "metadata": {
  "kernelspec": {
   "display_name": "Python (learn-env)",
   "language": "python",
   "name": "learn-env"
  },
  "language_info": {
   "codemirror_mode": {
    "name": "ipython",
    "version": 3
   },
   "file_extension": ".py",
   "mimetype": "text/x-python",
   "name": "python",
   "nbconvert_exporter": "python",
   "pygments_lexer": "ipython3",
   "version": "3.8.1"
  }
 },
 "nbformat": 4,
 "nbformat_minor": 5
}
